{
 "cells": [
  {
   "cell_type": "code",
   "execution_count": 1,
   "metadata": {},
   "outputs": [],
   "source": [
    "#import libraries\n",
    "import pandas as pd\n",
    "import numpy as np\n",
    "\n",
    "from sklearn.model_selection import train_test_split\n",
    "from sklearn_pandas import DataFrameMapper\n",
    "from sklearn.preprocessing import StandardScaler\n",
    "from sklearn.preprocessing import OneHotEncoder\n",
    "from sklearn.metrics import accuracy_score,classification_report, recall_score, precision_score, confusion_matrix, f1_score\n",
    "from sklearn.impute import SimpleImputer\n",
    "\n",
    "import matplotlib.pyplot as plt\n",
    "from sklearn.ensemble import AdaBoostClassifier\n",
    "from sklearn.model_selection import GridSearchCV\n",
    "import seaborn as sns\n",
    "\n",
    "from sklearn.tree import DecisionTreeClassifier\n",
    "from sklearn.linear_model import LogisticRegression\n",
    "from xgboost import XGBClassifier\n",
    "from sklearn.ensemble import RandomForestClassifier\n",
    "from sklearn.ensemble import GradientBoostingClassifier\n",
    "\n",
    "from sklearn.impute import KNNImputer\n",
    "\n",
    "import pickle\n",
    "import warnings\n",
    "warnings.filterwarnings('ignore')\n",
    "\n",
    "pd.set_option(\"display.max_columns\", None)\n"
   ]
  },
  {
   "cell_type": "markdown",
   "metadata": {},
   "source": [
    "### Read data"
   ]
  },
  {
   "cell_type": "code",
   "execution_count": 2,
   "metadata": {},
   "outputs": [],
   "source": [
    "df = pd.read_csv('train_data.csv')"
   ]
  },
  {
   "cell_type": "code",
   "execution_count": 3,
   "metadata": {},
   "outputs": [
    {
     "data": {
      "text/html": [
       "<div>\n",
       "<style scoped>\n",
       "    .dataframe tbody tr th:only-of-type {\n",
       "        vertical-align: middle;\n",
       "    }\n",
       "\n",
       "    .dataframe tbody tr th {\n",
       "        vertical-align: top;\n",
       "    }\n",
       "\n",
       "    .dataframe thead th {\n",
       "        text-align: right;\n",
       "    }\n",
       "</style>\n",
       "<table border=\"1\" class=\"dataframe\">\n",
       "  <thead>\n",
       "    <tr style=\"text-align: right;\">\n",
       "      <th></th>\n",
       "      <th>transaction_number</th>\n",
       "      <th>user_id</th>\n",
       "      <th>payment_method</th>\n",
       "      <th>partner_id</th>\n",
       "      <th>partner_category</th>\n",
       "      <th>country</th>\n",
       "      <th>device_type</th>\n",
       "      <th>money_transacted</th>\n",
       "      <th>transaction_initiation</th>\n",
       "      <th>partner_pricing_category</th>\n",
       "      <th>is_fraud</th>\n",
       "    </tr>\n",
       "  </thead>\n",
       "  <tbody>\n",
       "    <tr>\n",
       "      <th>0</th>\n",
       "      <td>144703125000</td>\n",
       "      <td>17539344</td>\n",
       "      <td>sbi_atm_cum_debit_card</td>\n",
       "      <td>47334</td>\n",
       "      <td>cat_1</td>\n",
       "      <td>IND_INR</td>\n",
       "      <td>android_devices</td>\n",
       "      <td>-5.0</td>\n",
       "      <td>2016-11-15 19:16:12+00:00</td>\n",
       "      <td>2</td>\n",
       "      <td>0</td>\n",
       "    </tr>\n",
       "    <tr>\n",
       "      <th>1</th>\n",
       "      <td>77406814453032</td>\n",
       "      <td>24710841</td>\n",
       "      <td>e_wallet_payments</td>\n",
       "      <td>78890</td>\n",
       "      <td>cat_2</td>\n",
       "      <td>IND_INR</td>\n",
       "      <td>other_pcs</td>\n",
       "      <td>100.0</td>\n",
       "      <td>2017-01-11 09:25:33+00:00</td>\n",
       "      <td>2</td>\n",
       "      <td>0</td>\n",
       "    </tr>\n",
       "    <tr>\n",
       "      <th>2</th>\n",
       "      <td>308929485482801</td>\n",
       "      <td>24265476</td>\n",
       "      <td>e_wallet_payments</td>\n",
       "      <td>78890</td>\n",
       "      <td>cat_2</td>\n",
       "      <td>IND_INR</td>\n",
       "      <td>other_pcs</td>\n",
       "      <td>50.0</td>\n",
       "      <td>2016-12-07 07:58:09+00:00</td>\n",
       "      <td>2</td>\n",
       "      <td>0</td>\n",
       "    </tr>\n",
       "    <tr>\n",
       "      <th>3</th>\n",
       "      <td>665270027747073</td>\n",
       "      <td>10240000</td>\n",
       "      <td>other_debit_cards</td>\n",
       "      <td>102557</td>\n",
       "      <td>cat_3</td>\n",
       "      <td>IND_INR</td>\n",
       "      <td>other_pcs</td>\n",
       "      <td>1000.0</td>\n",
       "      <td>2017-01-11 16:15:44+00:00</td>\n",
       "      <td>2</td>\n",
       "      <td>0</td>\n",
       "    </tr>\n",
       "    <tr>\n",
       "      <th>4</th>\n",
       "      <td>38276160171101</td>\n",
       "      <td>5880625</td>\n",
       "      <td>other_debit_cards</td>\n",
       "      <td>118335</td>\n",
       "      <td>cat_1</td>\n",
       "      <td>IND_INR</td>\n",
       "      <td>other_pcs</td>\n",
       "      <td>200.0</td>\n",
       "      <td>2016-11-16 17:04:42+00:00</td>\n",
       "      <td>2</td>\n",
       "      <td>0</td>\n",
       "    </tr>\n",
       "  </tbody>\n",
       "</table>\n",
       "</div>"
      ],
      "text/plain": [
       "   transaction_number   user_id          payment_method  partner_id  \\\n",
       "0        144703125000  17539344  sbi_atm_cum_debit_card       47334   \n",
       "1      77406814453032  24710841       e_wallet_payments       78890   \n",
       "2     308929485482801  24265476       e_wallet_payments       78890   \n",
       "3     665270027747073  10240000       other_debit_cards      102557   \n",
       "4      38276160171101   5880625       other_debit_cards      118335   \n",
       "\n",
       "  partner_category  country      device_type  money_transacted  \\\n",
       "0            cat_1  IND_INR  android_devices              -5.0   \n",
       "1            cat_2  IND_INR        other_pcs             100.0   \n",
       "2            cat_2  IND_INR        other_pcs              50.0   \n",
       "3            cat_3  IND_INR        other_pcs            1000.0   \n",
       "4            cat_1  IND_INR        other_pcs             200.0   \n",
       "\n",
       "      transaction_initiation  partner_pricing_category  is_fraud  \n",
       "0  2016-11-15 19:16:12+00:00                         2         0  \n",
       "1  2017-01-11 09:25:33+00:00                         2         0  \n",
       "2  2016-12-07 07:58:09+00:00                         2         0  \n",
       "3  2017-01-11 16:15:44+00:00                         2         0  \n",
       "4  2016-11-16 17:04:42+00:00                         2         0  "
      ]
     },
     "execution_count": 3,
     "metadata": {},
     "output_type": "execute_result"
    }
   ],
   "source": [
    "df.head()"
   ]
  },
  {
   "cell_type": "code",
   "execution_count": 4,
   "metadata": {},
   "outputs": [
    {
     "data": {
      "text/plain": [
       "(76529, 11)"
      ]
     },
     "execution_count": 4,
     "metadata": {},
     "output_type": "execute_result"
    }
   ],
   "source": [
    "df.shape"
   ]
  },
  {
   "cell_type": "code",
   "execution_count": 5,
   "metadata": {},
   "outputs": [
    {
     "data": {
      "text/plain": [
       "transaction_number          76529\n",
       "user_id                      3594\n",
       "payment_method                  6\n",
       "partner_id                     23\n",
       "partner_category                9\n",
       "country                         1\n",
       "device_type                     4\n",
       "money_transacted             1454\n",
       "transaction_initiation      75811\n",
       "partner_pricing_category        4\n",
       "is_fraud                        2\n",
       "dtype: int64"
      ]
     },
     "execution_count": 5,
     "metadata": {},
     "output_type": "execute_result"
    }
   ],
   "source": [
    "df.nunique()"
   ]
  },
  {
   "cell_type": "code",
   "execution_count": 6,
   "metadata": {},
   "outputs": [
    {
     "data": {
      "text/plain": [
       "transaction_number            int64\n",
       "user_id                       int64\n",
       "payment_method               object\n",
       "partner_id                    int64\n",
       "partner_category             object\n",
       "country                      object\n",
       "device_type                  object\n",
       "money_transacted            float64\n",
       "transaction_initiation       object\n",
       "partner_pricing_category      int64\n",
       "is_fraud                      int64\n",
       "dtype: object"
      ]
     },
     "execution_count": 6,
     "metadata": {},
     "output_type": "execute_result"
    }
   ],
   "source": [
    "df.dtypes"
   ]
  },
  {
   "cell_type": "markdown",
   "metadata": {},
   "source": [
    "### Preprocessing"
   ]
  },
  {
   "cell_type": "code",
   "execution_count": 7,
   "metadata": {},
   "outputs": [],
   "source": [
    "#extract day,month,year,time from timestamp column.So,convert it to datetime\n",
    "df.transaction_initiation=pd.to_datetime(df.transaction_initiation)"
   ]
  },
  {
   "cell_type": "code",
   "execution_count": 8,
   "metadata": {},
   "outputs": [],
   "source": [
    "df['year'] = df['transaction_initiation'].dt.year\n",
    "df['Month'] = df['transaction_initiation'].dt.month\n",
    "df['Day'] = df['transaction_initiation'].dt.day\n",
    "df['hour'] = df['transaction_initiation'].dt.hour\n",
    "df['dayofweek'] = df['transaction_initiation'].dt.dayofweek"
   ]
  },
  {
   "cell_type": "code",
   "execution_count": 9,
   "metadata": {},
   "outputs": [],
   "source": [
    "#drop unwanted columns\n",
    "df.drop('transaction_initiation',axis=1,inplace=True) #we have extracted columns\n",
    "df.drop('country',axis=1,inplace=True)    #only one unique value\n",
    "df.drop('transaction_number',axis=1,inplace=True) \n",
    "df.drop('user_id',axis=1,inplace=True) #id is of no use"
   ]
  },
  {
   "cell_type": "code",
   "execution_count": 10,
   "metadata": {},
   "outputs": [
    {
     "data": {
      "text/html": [
       "<div>\n",
       "<style scoped>\n",
       "    .dataframe tbody tr th:only-of-type {\n",
       "        vertical-align: middle;\n",
       "    }\n",
       "\n",
       "    .dataframe tbody tr th {\n",
       "        vertical-align: top;\n",
       "    }\n",
       "\n",
       "    .dataframe thead th {\n",
       "        text-align: right;\n",
       "    }\n",
       "</style>\n",
       "<table border=\"1\" class=\"dataframe\">\n",
       "  <thead>\n",
       "    <tr style=\"text-align: right;\">\n",
       "      <th></th>\n",
       "      <th>payment_method</th>\n",
       "      <th>partner_id</th>\n",
       "      <th>partner_category</th>\n",
       "      <th>device_type</th>\n",
       "      <th>money_transacted</th>\n",
       "      <th>partner_pricing_category</th>\n",
       "      <th>is_fraud</th>\n",
       "      <th>year</th>\n",
       "      <th>Month</th>\n",
       "      <th>Day</th>\n",
       "      <th>hour</th>\n",
       "      <th>dayofweek</th>\n",
       "    </tr>\n",
       "  </thead>\n",
       "  <tbody>\n",
       "    <tr>\n",
       "      <th>0</th>\n",
       "      <td>sbi_atm_cum_debit_card</td>\n",
       "      <td>47334</td>\n",
       "      <td>cat_1</td>\n",
       "      <td>android_devices</td>\n",
       "      <td>-5.0</td>\n",
       "      <td>2</td>\n",
       "      <td>0</td>\n",
       "      <td>2016</td>\n",
       "      <td>11</td>\n",
       "      <td>15</td>\n",
       "      <td>19</td>\n",
       "      <td>1</td>\n",
       "    </tr>\n",
       "    <tr>\n",
       "      <th>1</th>\n",
       "      <td>e_wallet_payments</td>\n",
       "      <td>78890</td>\n",
       "      <td>cat_2</td>\n",
       "      <td>other_pcs</td>\n",
       "      <td>100.0</td>\n",
       "      <td>2</td>\n",
       "      <td>0</td>\n",
       "      <td>2017</td>\n",
       "      <td>1</td>\n",
       "      <td>11</td>\n",
       "      <td>9</td>\n",
       "      <td>2</td>\n",
       "    </tr>\n",
       "    <tr>\n",
       "      <th>2</th>\n",
       "      <td>e_wallet_payments</td>\n",
       "      <td>78890</td>\n",
       "      <td>cat_2</td>\n",
       "      <td>other_pcs</td>\n",
       "      <td>50.0</td>\n",
       "      <td>2</td>\n",
       "      <td>0</td>\n",
       "      <td>2016</td>\n",
       "      <td>12</td>\n",
       "      <td>7</td>\n",
       "      <td>7</td>\n",
       "      <td>2</td>\n",
       "    </tr>\n",
       "    <tr>\n",
       "      <th>3</th>\n",
       "      <td>other_debit_cards</td>\n",
       "      <td>102557</td>\n",
       "      <td>cat_3</td>\n",
       "      <td>other_pcs</td>\n",
       "      <td>1000.0</td>\n",
       "      <td>2</td>\n",
       "      <td>0</td>\n",
       "      <td>2017</td>\n",
       "      <td>1</td>\n",
       "      <td>11</td>\n",
       "      <td>16</td>\n",
       "      <td>2</td>\n",
       "    </tr>\n",
       "    <tr>\n",
       "      <th>4</th>\n",
       "      <td>other_debit_cards</td>\n",
       "      <td>118335</td>\n",
       "      <td>cat_1</td>\n",
       "      <td>other_pcs</td>\n",
       "      <td>200.0</td>\n",
       "      <td>2</td>\n",
       "      <td>0</td>\n",
       "      <td>2016</td>\n",
       "      <td>11</td>\n",
       "      <td>16</td>\n",
       "      <td>17</td>\n",
       "      <td>2</td>\n",
       "    </tr>\n",
       "  </tbody>\n",
       "</table>\n",
       "</div>"
      ],
      "text/plain": [
       "           payment_method  partner_id partner_category      device_type  \\\n",
       "0  sbi_atm_cum_debit_card       47334            cat_1  android_devices   \n",
       "1       e_wallet_payments       78890            cat_2        other_pcs   \n",
       "2       e_wallet_payments       78890            cat_2        other_pcs   \n",
       "3       other_debit_cards      102557            cat_3        other_pcs   \n",
       "4       other_debit_cards      118335            cat_1        other_pcs   \n",
       "\n",
       "   money_transacted  partner_pricing_category  is_fraud  year  Month  Day  \\\n",
       "0              -5.0                         2         0  2016     11   15   \n",
       "1             100.0                         2         0  2017      1   11   \n",
       "2              50.0                         2         0  2016     12    7   \n",
       "3            1000.0                         2         0  2017      1   11   \n",
       "4             200.0                         2         0  2016     11   16   \n",
       "\n",
       "   hour  dayofweek  \n",
       "0    19          1  \n",
       "1     9          2  \n",
       "2     7          2  \n",
       "3    16          2  \n",
       "4    17          2  "
      ]
     },
     "execution_count": 10,
     "metadata": {},
     "output_type": "execute_result"
    }
   ],
   "source": [
    "df.head()"
   ]
  },
  {
   "cell_type": "code",
   "execution_count": 11,
   "metadata": {},
   "outputs": [
    {
     "name": "stdout",
     "output_type": "stream",
     "text": [
      "payment_method               object\n",
      "partner_id                    int64\n",
      "partner_category             object\n",
      "device_type                  object\n",
      "money_transacted            float64\n",
      "partner_pricing_category      int64\n",
      "is_fraud                      int64\n",
      "year                          int64\n",
      "Month                         int64\n",
      "Day                           int64\n",
      "hour                          int64\n",
      "dayofweek                     int64\n",
      "dtype: object\n",
      "payment_method                 6\n",
      "partner_id                    23\n",
      "partner_category               9\n",
      "device_type                    4\n",
      "money_transacted            1454\n",
      "partner_pricing_category       4\n",
      "is_fraud                       2\n",
      "year                           2\n",
      "Month                          4\n",
      "Day                           31\n",
      "hour                          24\n",
      "dayofweek                      7\n",
      "dtype: int64\n"
     ]
    }
   ],
   "source": [
    "print(df.dtypes)\n",
    "print(df.nunique())"
   ]
  },
  {
   "cell_type": "code",
   "execution_count": 12,
   "metadata": {},
   "outputs": [],
   "source": [
    "# sns.pairplot(df)"
   ]
  },
  {
   "cell_type": "code",
   "execution_count": 13,
   "metadata": {},
   "outputs": [],
   "source": [
    "con_list=[cname for cname in df.columns if df[cname].nunique()<=31]\n",
    "df[con_list]=df[con_list].astype('category')"
   ]
  },
  {
   "cell_type": "code",
   "execution_count": 14,
   "metadata": {},
   "outputs": [
    {
     "data": {
      "text/plain": [
       "payment_method              category\n",
       "partner_id                  category\n",
       "partner_category            category\n",
       "device_type                 category\n",
       "money_transacted             float64\n",
       "partner_pricing_category    category\n",
       "is_fraud                    category\n",
       "year                        category\n",
       "Month                       category\n",
       "Day                         category\n",
       "hour                        category\n",
       "dayofweek                   category\n",
       "dtype: object"
      ]
     },
     "execution_count": 14,
     "metadata": {},
     "output_type": "execute_result"
    }
   ],
   "source": [
    "df.dtypes"
   ]
  },
  {
   "cell_type": "code",
   "execution_count": 15,
   "metadata": {},
   "outputs": [
    {
     "data": {
      "text/plain": [
       "0    76375\n",
       "1      154\n",
       "Name: is_fraud, dtype: int64"
      ]
     },
     "execution_count": 15,
     "metadata": {},
     "output_type": "execute_result"
    }
   ],
   "source": [
    "df.is_fraud.value_counts()"
   ]
  },
  {
   "cell_type": "markdown",
   "metadata": {},
   "source": [
    "### Exploratory Data Analysis"
   ]
  },
  {
   "cell_type": "code",
   "execution_count": 16,
   "metadata": {},
   "outputs": [],
   "source": [
    "def barplot(x,y,df):\n",
    "    bar_plot1 = sns.countplot(x=x, data=df,hue=y)\n",
    "    for p in bar_plot1.patches:\n",
    "        height = p.get_height()\n",
    "        bar_plot1.text(p.get_x()+ p.get_width()/2, height + 1, height)"
   ]
  },
  {
   "cell_type": "code",
   "execution_count": 17,
   "metadata": {},
   "outputs": [
    {
     "data": {
      "text/plain": [
       "<matplotlib.collections.PathCollection at 0x1bea128ad90>"
      ]
     },
     "execution_count": 17,
     "metadata": {},
     "output_type": "execute_result"
    },
    {
     "data": {
      "image/png": "[encoded data removed]",
      "text/plain": [
       "<Figure size 432x288 with 1 Axes>"
      ]
     },
     "metadata": {
      "needs_background": "light"
     },
     "output_type": "display_data"
    }
   ],
   "source": [
    "plt.scatter(df['partner_id'],df['is_fraud'])"
   ]
  },
  {
   "cell_type": "code",
   "execution_count": 18,
   "metadata": {},
   "outputs": [
    {
     "data": {
      "text/plain": [
       "<matplotlib.collections.PathCollection at 0x1bea152e550>"
      ]
     },
     "execution_count": 18,
     "metadata": {},
     "output_type": "execute_result"
    },
    {
     "data": {
      "image/png": "[encoded data removed]",
      "text/plain": [
       "<Figure size 432x288 with 1 Axes>"
      ]
     },
     "metadata": {
      "needs_background": "light"
     },
     "output_type": "display_data"
    }
   ],
   "source": [
    "plt.scatter(df['partner_category'],df['is_fraud'])"
   ]
  },
  {
   "cell_type": "code",
   "execution_count": 19,
   "metadata": {},
   "outputs": [
    {
     "data": {
      "text/plain": [
       "<matplotlib.axes._subplots.AxesSubplot at 0x1bea15a3820>"
      ]
     },
     "execution_count": 19,
     "metadata": {},
     "output_type": "execute_result"
    },
    {
     "data": {
      "image/png": "[encoded data removed]",
      "text/plain": [
       "<Figure size 432x288 with 1 Axes>"
      ]
     },
     "metadata": {
      "needs_background": "light"
     },
     "output_type": "display_data"
    }
   ],
   "source": [
    "sns.countplot(x='partner_category',hue='is_fraud',data=df)"
   ]
  },
  {
   "cell_type": "code",
   "execution_count": 18,
   "metadata": {},
   "outputs": [
    {
     "name": "stderr",
     "output_type": "stream",
     "text": [
      "posx and posy should be finite values\n",
      "posx and posy should be finite values\n",
      "posx and posy should be finite values\n",
      "posx and posy should be finite values\n",
      "posx and posy should be finite values\n",
      "posx and posy should be finite values\n",
      "posx and posy should be finite values\n",
      "posx and posy should be finite values\n",
      "posx and posy should be finite values\n",
      "posx and posy should be finite values\n"
     ]
    },
    {
     "data": {
      "image/png": "[encoded data removed]",
      "text/plain": [
       "<Figure size 1080x360 with 1 Axes>"
      ]
     },
     "metadata": {
      "needs_background": "light"
     },
     "output_type": "display_data"
    }
   ],
   "source": [
    "plt.figure(figsize=(15,5))\n",
    "barplot('partner_category','is_fraud',df)\n"
   ]
  },
  {
   "cell_type": "markdown",
   "metadata": {},
   "source": [
    "* __only cat1,cat2,cat3 and cat8 has fraud transaction.__\n",
    "* __when partner_category lies in these categories review the transaction__ "
   ]
  },
  {
   "cell_type": "code",
   "execution_count": 19,
   "metadata": {},
   "outputs": [
    {
     "data": {
      "text/plain": [
       "<matplotlib.collections.PathCollection at 0x2a06980ba30>"
      ]
     },
     "execution_count": 19,
     "metadata": {},
     "output_type": "execute_result"
    },
    {
     "data": {
      "image/png": "[encoded data removed]",
      "text/plain": [
       "<Figure size 432x288 with 1 Axes>"
      ]
     },
     "metadata": {
      "needs_background": "light"
     },
     "output_type": "display_data"
    }
   ],
   "source": [
    "plt.scatter(df['device_type'],df['is_fraud'])"
   ]
  },
  {
   "cell_type": "code",
   "execution_count": 20,
   "metadata": {},
   "outputs": [
    {
     "name": "stderr",
     "output_type": "stream",
     "text": [
      "posx and posy should be finite values\n",
      "posx and posy should be finite values\n"
     ]
    },
    {
     "data": {
      "image/png": "[encoded data removed]",
      "text/plain": [
       "<Figure size 432x288 with 1 Axes>"
      ]
     },
     "metadata": {
      "needs_background": "light"
     },
     "output_type": "display_data"
    }
   ],
   "source": [
    "barplot('device_type','is_fraud',df)"
   ]
  },
  {
   "cell_type": "markdown",
   "metadata": {},
   "source": [
    "* __android_devices,windows and other pcs has fraud transaction__\n",
    "* __review once when transaction is done on these devices__"
   ]
  },
  {
   "cell_type": "code",
   "execution_count": 21,
   "metadata": {},
   "outputs": [
    {
     "data": {
      "text/plain": [
       "<matplotlib.collections.PathCollection at 0x2a0694eb4f0>"
      ]
     },
     "execution_count": 21,
     "metadata": {},
     "output_type": "execute_result"
    },
    {
     "data": {
      "image/png": "[encoded data removed]",
      "text/plain": [
       "<Figure size 432x288 with 1 Axes>"
      ]
     },
     "metadata": {
      "needs_background": "light"
     },
     "output_type": "display_data"
    }
   ],
   "source": [
    "plt.scatter(df['money_transacted'],df['is_fraud'])"
   ]
  },
  {
   "cell_type": "markdown",
   "metadata": {},
   "source": [
    "* __when the transaction amount is greater than 50000 there are high chances of fraud__\n",
    "* __when amount transacted greater than 50000 review transaction__"
   ]
  },
  {
   "cell_type": "code",
   "execution_count": 22,
   "metadata": {},
   "outputs": [
    {
     "data": {
      "text/plain": [
       "<matplotlib.collections.PathCollection at 0x2a016cf2310>"
      ]
     },
     "execution_count": 22,
     "metadata": {},
     "output_type": "execute_result"
    },
    {
     "data": {
      "image/png": "[encoded data removed]",
      "text/plain": [
       "<Figure size 432x288 with 1 Axes>"
      ]
     },
     "metadata": {
      "needs_background": "light"
     },
     "output_type": "display_data"
    }
   ],
   "source": [
    "plt.scatter(df['partner_pricing_category'],df['is_fraud'])"
   ]
  },
  {
   "cell_type": "code",
   "execution_count": 23,
   "metadata": {},
   "outputs": [
    {
     "data": {
      "image/png": "[encoded data removed]",
      "text/plain": [
       "<Figure size 432x288 with 1 Axes>"
      ]
     },
     "metadata": {
      "needs_background": "light"
     },
     "output_type": "display_data"
    }
   ],
   "source": [
    "barplot('partner_pricing_category','is_fraud',df)"
   ]
  },
  {
   "cell_type": "markdown",
   "metadata": {},
   "source": [
    "* __there are more fraud cases in category0 and cat2__\n",
    "* __when transaction is of these pricing category review once__"
   ]
  },
  {
   "cell_type": "code",
   "execution_count": 24,
   "metadata": {},
   "outputs": [
    {
     "data": {
      "text/plain": [
       "<matplotlib.collections.PathCollection at 0x2a0692692e0>"
      ]
     },
     "execution_count": 24,
     "metadata": {},
     "output_type": "execute_result"
    },
    {
     "data": {
      "image/png": "[encoded data removed]",
      "text/plain": [
       "<Figure size 432x288 with 1 Axes>"
      ]
     },
     "metadata": {
      "needs_background": "light"
     },
     "output_type": "display_data"
    }
   ],
   "source": [
    "plt.scatter(df['Month'],df['is_fraud'])"
   ]
  },
  {
   "cell_type": "code",
   "execution_count": 25,
   "metadata": {},
   "outputs": [
    {
     "data": {
      "image/png": "[encoded data removed]",
      "text/plain": [
       "<Figure size 432x288 with 1 Axes>"
      ]
     },
     "metadata": {
      "needs_background": "light"
     },
     "output_type": "display_data"
    }
   ],
   "source": [
    "barplot('Month','is_fraud',df)"
   ]
  },
  {
   "cell_type": "markdown",
   "metadata": {},
   "source": [
    "* __there are frauds only in jan,feb,oct and december__\n",
    "* __review more when transacted in those months__"
   ]
  },
  {
   "cell_type": "code",
   "execution_count": 26,
   "metadata": {},
   "outputs": [
    {
     "data": {
      "text/plain": [
       "<matplotlib.collections.PathCollection at 0x2a067ed9100>"
      ]
     },
     "execution_count": 26,
     "metadata": {},
     "output_type": "execute_result"
    },
    {
     "data": {
      "image/png": "[encoded data removed]",
      "text/plain": [
       "<Figure size 432x288 with 1 Axes>"
      ]
     },
     "metadata": {
      "needs_background": "light"
     },
     "output_type": "display_data"
    }
   ],
   "source": [
    "plt.scatter(df['Day'],df['is_fraud'])"
   ]
  },
  {
   "cell_type": "code",
   "execution_count": 27,
   "metadata": {},
   "outputs": [
    {
     "name": "stderr",
     "output_type": "stream",
     "text": [
      "posx and posy should be finite values\n",
      "posx and posy should be finite values\n",
      "posx and posy should be finite values\n",
      "posx and posy should be finite values\n",
      "posx and posy should be finite values\n",
      "posx and posy should be finite values\n"
     ]
    },
    {
     "data": {
      "image/png": "[encoded data removed]",
      "text/plain": [
       "<Figure size 1440x720 with 1 Axes>"
      ]
     },
     "metadata": {
      "needs_background": "light"
     },
     "output_type": "display_data"
    }
   ],
   "source": [
    "plt.figure(figsize=(20,10))\n",
    "barplot('Day','is_fraud',df)"
   ]
  },
  {
   "cell_type": "code",
   "execution_count": 28,
   "metadata": {},
   "outputs": [
    {
     "data": {
      "text/plain": [
       "<matplotlib.collections.PathCollection at 0x2a067237f70>"
      ]
     },
     "execution_count": 28,
     "metadata": {},
     "output_type": "execute_result"
    },
    {
     "data": {
      "image/png": "[encoded data removed]",
      "text/plain": [
       "<Figure size 432x288 with 1 Axes>"
      ]
     },
     "metadata": {
      "needs_background": "light"
     },
     "output_type": "display_data"
    }
   ],
   "source": [
    "plt.scatter(df['hour'],df['is_fraud'])"
   ]
  },
  {
   "cell_type": "code",
   "execution_count": 29,
   "metadata": {},
   "outputs": [
    {
     "name": "stderr",
     "output_type": "stream",
     "text": [
      "posx and posy should be finite values\n",
      "posx and posy should be finite values\n",
      "posx and posy should be finite values\n",
      "posx and posy should be finite values\n",
      "posx and posy should be finite values\n",
      "posx and posy should be finite values\n",
      "posx and posy should be finite values\n",
      "posx and posy should be finite values\n"
     ]
    },
    {
     "data": {
      "image/png": "[encoded data removed]",
      "text/plain": [
       "<Figure size 1440x720 with 1 Axes>"
      ]
     },
     "metadata": {
      "needs_background": "light"
     },
     "output_type": "display_data"
    }
   ],
   "source": [
    "plt.figure(figsize=(20,10))\n",
    "barplot('hour','is_fraud',df)"
   ]
  },
  {
   "cell_type": "markdown",
   "metadata": {},
   "source": [
    "* __transaction done in afternoon between 12 to 18 has high chances of fraud__\n",
    "* __review transaction done in these time range__"
   ]
  },
  {
   "cell_type": "code",
   "execution_count": 30,
   "metadata": {},
   "outputs": [
    {
     "data": {
      "text/plain": [
       "<matplotlib.collections.PathCollection at 0x2a06706e940>"
      ]
     },
     "execution_count": 30,
     "metadata": {},
     "output_type": "execute_result"
    },
    {
     "data": {
      "image/png": "[encoded data removed]",
      "text/plain": [
       "<Figure size 432x288 with 1 Axes>"
      ]
     },
     "metadata": {
      "needs_background": "light"
     },
     "output_type": "display_data"
    }
   ],
   "source": [
    "plt.scatter(df['dayofweek'],df['is_fraud'])"
   ]
  },
  {
   "cell_type": "code",
   "execution_count": 31,
   "metadata": {},
   "outputs": [
    {
     "data": {
      "image/png": "[encoded data removed]",
      "text/plain": [
       "<Figure size 432x288 with 1 Axes>"
      ]
     },
     "metadata": {
      "needs_background": "light"
     },
     "output_type": "display_data"
    }
   ],
   "source": [
    "barplot('dayofweek','is_fraud',df)"
   ]
  },
  {
   "cell_type": "markdown",
   "metadata": {},
   "source": [
    "* __in general double the daily transaction are done on wednesday__"
   ]
  },
  {
   "cell_type": "markdown",
   "metadata": {},
   "source": [
    "### Splitting the data into train and validation"
   ]
  },
  {
   "cell_type": "code",
   "execution_count": 32,
   "metadata": {},
   "outputs": [],
   "source": [
    "y=df['is_fraud']\n",
    "X=df.drop('is_fraud',axis=1)"
   ]
  },
  {
   "cell_type": "code",
   "execution_count": 33,
   "metadata": {},
   "outputs": [
    {
     "name": "stdout",
     "output_type": "stream",
     "text": [
      "(51274, 11)\n",
      "(25255, 11)\n",
      "(51274,)\n",
      "(25255,)\n"
     ]
    }
   ],
   "source": [
    "X_train, X_valid, y_train, y_valid = train_test_split(X, y, test_size=0.33, random_state=1250,stratify=y)\n",
    "print(X_train.shape)\n",
    "print(X_valid.shape)\n",
    "print(y_train.shape)\n",
    "print(y_valid.shape)"
   ]
  },
  {
   "cell_type": "code",
   "execution_count": 34,
   "metadata": {},
   "outputs": [
    {
     "name": "stdout",
     "output_type": "stream",
     "text": [
      "<class 'pandas.core.frame.DataFrame'>\n",
      "Int64Index: 51274 entries, 43596 to 17236\n",
      "Data columns (total 11 columns):\n",
      " #   Column                    Non-Null Count  Dtype   \n",
      "---  ------                    --------------  -----   \n",
      " 0   payment_method            51274 non-null  category\n",
      " 1   partner_id                51274 non-null  category\n",
      " 2   partner_category          51274 non-null  category\n",
      " 3   device_type               51274 non-null  category\n",
      " 4   money_transacted          51274 non-null  float64 \n",
      " 5   partner_pricing_category  51274 non-null  category\n",
      " 6   year                      51274 non-null  category\n",
      " 7   Month                     51274 non-null  category\n",
      " 8   Day                       51274 non-null  category\n",
      " 9   hour                      51274 non-null  category\n",
      " 10  dayofweek                 51274 non-null  category\n",
      "dtypes: category(10), float64(1)\n",
      "memory usage: 1.3 MB\n"
     ]
    }
   ],
   "source": [
    "X_train.info()"
   ]
  },
  {
   "cell_type": "code",
   "execution_count": 35,
   "metadata": {},
   "outputs": [
    {
     "name": "stdout",
     "output_type": "stream",
     "text": [
      "1\n",
      "10\n"
     ]
    }
   ],
   "source": [
    "num_cols = X_train.select_dtypes(exclude='category').columns\n",
    "print(len(num_cols))\n",
    "\n",
    "cat_cols=X_train.select_dtypes(include='category').columns\n",
    "print(len(cat_cols))"
   ]
  },
  {
   "cell_type": "markdown",
   "metadata": {},
   "source": [
    "### Scaling numeric columns"
   ]
  },
  {
   "cell_type": "code",
   "execution_count": 36,
   "metadata": {},
   "outputs": [],
   "source": [
    "scaler = StandardScaler()\n",
    "scaler.fit(X_train[num_cols])\n",
    "\n",
    "X_train_num = pd.DataFrame(scaler.transform(X_train[num_cols]), columns=num_cols)\n",
    "X_valid_num = pd.DataFrame(scaler.transform(X_valid[num_cols]), columns=num_cols)"
   ]
  },
  {
   "cell_type": "markdown",
   "metadata": {},
   "source": [
    "### OneHotEncode categorical columns"
   ]
  },
  {
   "cell_type": "code",
   "execution_count": 37,
   "metadata": {},
   "outputs": [],
   "source": [
    "ohe=OneHotEncoder(drop='first')\n",
    "ohe.fit(X_train[cat_cols])\n",
    "columns_ohe = list(ohe.get_feature_names(cat_cols))"
   ]
  },
  {
   "cell_type": "code",
   "execution_count": 38,
   "metadata": {},
   "outputs": [
    {
     "name": "stdout",
     "output_type": "stream",
     "text": [
      "(51274, 104)\n",
      "(25255, 104)\n"
     ]
    }
   ],
   "source": [
    "X_train_cat=ohe.transform(X_train[cat_cols])\n",
    "X_valid_cat=ohe.transform(X_valid[cat_cols])\n",
    "print(X_train_cat.shape)\n",
    "print(X_valid_cat.shape)"
   ]
  },
  {
   "cell_type": "code",
   "execution_count": 39,
   "metadata": {},
   "outputs": [
    {
     "name": "stdout",
     "output_type": "stream",
     "text": [
      "(51274, 104)\n",
      "(25255, 104)\n"
     ]
    }
   ],
   "source": [
    "X_train_cat = pd.DataFrame(X_train_cat.todense(), columns=columns_ohe)\n",
    "X_valid_cat = pd.DataFrame(X_valid_cat.todense(), columns=columns_ohe)\n",
    "print(X_train_cat.shape)\n",
    "print(X_valid_cat.shape)"
   ]
  },
  {
   "cell_type": "markdown",
   "metadata": {},
   "source": [
    "### concatinate num and cat cols"
   ]
  },
  {
   "cell_type": "code",
   "execution_count": 40,
   "metadata": {},
   "outputs": [
    {
     "name": "stdout",
     "output_type": "stream",
     "text": [
      "(51274, 105)\n",
      "(25255, 105)\n"
     ]
    }
   ],
   "source": [
    "X_train=pd.concat([X_train_num,X_train_cat],axis=1)\n",
    "X_valid=pd.concat([X_valid_num,X_valid_cat],axis=1)\n",
    "print(X_train.shape)\n",
    "print(X_valid.shape)"
   ]
  },
  {
   "cell_type": "markdown",
   "metadata": {},
   "source": [
    "### Defining error metrics"
   ]
  },
  {
   "cell_type": "code",
   "execution_count": 41,
   "metadata": {},
   "outputs": [],
   "source": [
    "scores = pd.DataFrame(columns=['Model','Train_Accuracy','Train_Recall','Train_Precision','Train_F1_Score','Valid_Accuracy','Valid_Recall','Valid_Precision','Valid_F1_Score'])\n",
    "\n",
    "def get_metrics(train_actual,train_predicted,test_actual,test_predicted,model_description,dataframe):\n",
    "    train_accuracy = accuracy_score(train_actual,train_predicted)\n",
    "    train_recall   = recall_score(train_actual,train_predicted,average=\"weighted\")\n",
    "    train_precision= precision_score(train_actual,train_predicted,average=\"weighted\")\n",
    "    train_f1score  = f1_score(train_actual,train_predicted,average=\"weighted\")\n",
    "    test_accuracy = accuracy_score(test_actual,test_predicted)\n",
    "    test_recall   = recall_score(test_actual,test_predicted,average=\"weighted\")\n",
    "    test_precision= precision_score(test_actual,test_predicted,average=\"weighted\")\n",
    "    test_f1score  = f1_score(test_actual,test_predicted,average=\"weighted\")\n",
    "    dataframe = dataframe.append(pd.Series([model_description, train_accuracy,train_recall,train_precision,train_f1score,\n",
    "                                            test_accuracy,test_recall,test_precision,test_f1score],\n",
    "                                           index=scores.columns ), ignore_index=True)\n",
    "    return(dataframe)"
   ]
  },
  {
   "cell_type": "code",
   "execution_count": 42,
   "metadata": {},
   "outputs": [],
   "source": [
    "# Function for Classification Report\n",
    "\n",
    "def classifcation_report_train_test(y_train, y_train_pred, y_test, y_test_pred):\n",
    "\n",
    "    print('''\n",
    "            =========================================\n",
    "               CLASSIFICATION REPORT FOR TRAIN DATA\n",
    "            =========================================\n",
    "            ''')\n",
    "    print(classification_report(y_train, y_train_pred, digits=4))\n",
    "\n",
    "    print('''\n",
    "            =========================================\n",
    "               CLASSIFICATION REPORT FOR TEST DATA\n",
    "            =========================================\n",
    "            ''')\n",
    "    print(classification_report(y_test, y_test_pred, digits=4))"
   ]
  },
  {
   "cell_type": "markdown",
   "metadata": {},
   "source": [
    "### Logistic Regression"
   ]
  },
  {
   "cell_type": "code",
   "execution_count": 43,
   "metadata": {},
   "outputs": [
    {
     "name": "stdout",
     "output_type": "stream",
     "text": [
      "\n",
      "            =========================================\n",
      "               CLASSIFICATION REPORT FOR TRAIN DATA\n",
      "            =========================================\n",
      "            \n",
      "              precision    recall  f1-score   support\n",
      "\n",
      "           0     0.9986    0.9997    0.9991     51171\n",
      "           1     0.6667    0.2913    0.4054       103\n",
      "\n",
      "    accuracy                         0.9983     51274\n",
      "   macro avg     0.8326    0.6455    0.7023     51274\n",
      "weighted avg     0.9979    0.9983    0.9979     51274\n",
      "\n",
      "\n",
      "            =========================================\n",
      "               CLASSIFICATION REPORT FOR TEST DATA\n",
      "            =========================================\n",
      "            \n",
      "              precision    recall  f1-score   support\n",
      "\n",
      "           0     0.9988    0.9995    0.9991     25204\n",
      "           1     0.6061    0.3922    0.4762        51\n",
      "\n",
      "    accuracy                         0.9983     25255\n",
      "   macro avg     0.8024    0.6958    0.7377     25255\n",
      "weighted avg     0.9980    0.9983    0.9981     25255\n",
      "\n"
     ]
    }
   ],
   "source": [
    "lr =LogisticRegression()\n",
    "lr.fit(X_train, y_train)\n",
    "\n",
    "y_pred_train =lr.predict(X_train)\n",
    "y_pred_valid = lr.predict(X_valid)\n",
    "\n",
    "classifcation_report_train_test(y_train,y_pred_train,y_valid,y_pred_valid)"
   ]
  },
  {
   "cell_type": "code",
   "execution_count": 44,
   "metadata": {},
   "outputs": [
    {
     "data": {
      "text/html": [
       "<div>\n",
       "<style scoped>\n",
       "    .dataframe tbody tr th:only-of-type {\n",
       "        vertical-align: middle;\n",
       "    }\n",
       "\n",
       "    .dataframe tbody tr th {\n",
       "        vertical-align: top;\n",
       "    }\n",
       "\n",
       "    .dataframe thead th {\n",
       "        text-align: right;\n",
       "    }\n",
       "</style>\n",
       "<table border=\"1\" class=\"dataframe\">\n",
       "  <thead>\n",
       "    <tr style=\"text-align: right;\">\n",
       "      <th></th>\n",
       "      <th>Model</th>\n",
       "      <th>Train_Accuracy</th>\n",
       "      <th>Train_Recall</th>\n",
       "      <th>Train_Precision</th>\n",
       "      <th>Train_F1_Score</th>\n",
       "      <th>Valid_Accuracy</th>\n",
       "      <th>Valid_Recall</th>\n",
       "      <th>Valid_Precision</th>\n",
       "      <th>Valid_F1_Score</th>\n",
       "    </tr>\n",
       "  </thead>\n",
       "  <tbody>\n",
       "    <tr>\n",
       "      <th>0</th>\n",
       "      <td>LogisticRegression</td>\n",
       "      <td>0.998284</td>\n",
       "      <td>0.998284</td>\n",
       "      <td>0.997908</td>\n",
       "      <td>0.997948</td>\n",
       "      <td>0.998258</td>\n",
       "      <td>0.998258</td>\n",
       "      <td>0.997978</td>\n",
       "      <td>0.998071</td>\n",
       "    </tr>\n",
       "  </tbody>\n",
       "</table>\n",
       "</div>"
      ],
      "text/plain": [
       "                Model  Train_Accuracy  Train_Recall  Train_Precision  \\\n",
       "0  LogisticRegression        0.998284      0.998284         0.997908   \n",
       "\n",
       "   Train_F1_Score  Valid_Accuracy  Valid_Recall  Valid_Precision  \\\n",
       "0        0.997948        0.998258      0.998258         0.997978   \n",
       "\n",
       "   Valid_F1_Score  \n",
       "0        0.998071  "
      ]
     },
     "execution_count": 44,
     "metadata": {},
     "output_type": "execute_result"
    }
   ],
   "source": [
    "scores = get_metrics(y_train,y_pred_train,y_valid,y_pred_valid,\"LogisticRegression\",scores)\n",
    "scores"
   ]
  },
  {
   "cell_type": "markdown",
   "metadata": {},
   "source": [
    "### Decision trees"
   ]
  },
  {
   "cell_type": "code",
   "execution_count": 45,
   "metadata": {},
   "outputs": [
    {
     "name": "stdout",
     "output_type": "stream",
     "text": [
      "\n",
      "            =========================================\n",
      "               CLASSIFICATION REPORT FOR TRAIN DATA\n",
      "            =========================================\n",
      "            \n",
      "              precision    recall  f1-score   support\n",
      "\n",
      "           0     0.9996    1.0000    0.9998     51171\n",
      "           1     1.0000    0.7961    0.8865       103\n",
      "\n",
      "    accuracy                         0.9996     51274\n",
      "   macro avg     0.9998    0.8981    0.9431     51274\n",
      "weighted avg     0.9996    0.9996    0.9996     51274\n",
      "\n",
      "\n",
      "            =========================================\n",
      "               CLASSIFICATION REPORT FOR TEST DATA\n",
      "            =========================================\n",
      "            \n",
      "              precision    recall  f1-score   support\n",
      "\n",
      "           0     0.9996    0.9999    0.9998     25204\n",
      "           1     0.9333    0.8235    0.8750        51\n",
      "\n",
      "    accuracy                         0.9995     25255\n",
      "   macro avg     0.9665    0.9117    0.9374     25255\n",
      "weighted avg     0.9995    0.9995    0.9995     25255\n",
      "\n"
     ]
    }
   ],
   "source": [
    "clf_dt = DecisionTreeClassifier(max_depth=4)\n",
    "clf_dt.fit(X_train, y_train)\n",
    "\n",
    "y_pred_train = clf_dt.predict(X_train)\n",
    "y_pred_valid = clf_dt.predict(X_valid)\n",
    "\n",
    "classifcation_report_train_test(y_train,y_pred_train,y_valid,y_pred_valid)"
   ]
  },
  {
   "cell_type": "code",
   "execution_count": 46,
   "metadata": {},
   "outputs": [
    {
     "data": {
      "text/html": [
       "<div>\n",
       "<style scoped>\n",
       "    .dataframe tbody tr th:only-of-type {\n",
       "        vertical-align: middle;\n",
       "    }\n",
       "\n",
       "    .dataframe tbody tr th {\n",
       "        vertical-align: top;\n",
       "    }\n",
       "\n",
       "    .dataframe thead th {\n",
       "        text-align: right;\n",
       "    }\n",
       "</style>\n",
       "<table border=\"1\" class=\"dataframe\">\n",
       "  <thead>\n",
       "    <tr style=\"text-align: right;\">\n",
       "      <th></th>\n",
       "      <th>Model</th>\n",
       "      <th>Train_Accuracy</th>\n",
       "      <th>Train_Recall</th>\n",
       "      <th>Train_Precision</th>\n",
       "      <th>Train_F1_Score</th>\n",
       "      <th>Valid_Accuracy</th>\n",
       "      <th>Valid_Recall</th>\n",
       "      <th>Valid_Precision</th>\n",
       "      <th>Valid_F1_Score</th>\n",
       "    </tr>\n",
       "  </thead>\n",
       "  <tbody>\n",
       "    <tr>\n",
       "      <th>0</th>\n",
       "      <td>LogisticRegression</td>\n",
       "      <td>0.998284</td>\n",
       "      <td>0.998284</td>\n",
       "      <td>0.997908</td>\n",
       "      <td>0.997948</td>\n",
       "      <td>0.998258</td>\n",
       "      <td>0.998258</td>\n",
       "      <td>0.997978</td>\n",
       "      <td>0.998071</td>\n",
       "    </tr>\n",
       "    <tr>\n",
       "      <th>1</th>\n",
       "      <td>DecisionTrees</td>\n",
       "      <td>0.999590</td>\n",
       "      <td>0.999590</td>\n",
       "      <td>0.999591</td>\n",
       "      <td>0.999567</td>\n",
       "      <td>0.999525</td>\n",
       "      <td>0.999525</td>\n",
       "      <td>0.999509</td>\n",
       "      <td>0.999510</td>\n",
       "    </tr>\n",
       "  </tbody>\n",
       "</table>\n",
       "</div>"
      ],
      "text/plain": [
       "                Model  Train_Accuracy  Train_Recall  Train_Precision  \\\n",
       "0  LogisticRegression        0.998284      0.998284         0.997908   \n",
       "1       DecisionTrees        0.999590      0.999590         0.999591   \n",
       "\n",
       "   Train_F1_Score  Valid_Accuracy  Valid_Recall  Valid_Precision  \\\n",
       "0        0.997948        0.998258      0.998258         0.997978   \n",
       "1        0.999567        0.999525      0.999525         0.999509   \n",
       "\n",
       "   Valid_F1_Score  \n",
       "0        0.998071  \n",
       "1        0.999510  "
      ]
     },
     "execution_count": 46,
     "metadata": {},
     "output_type": "execute_result"
    }
   ],
   "source": [
    "scores = get_metrics(y_train,y_pred_train,y_valid,y_pred_valid,\"DecisionTrees\",scores)\n",
    "scores"
   ]
  },
  {
   "cell_type": "markdown",
   "metadata": {},
   "source": [
    "### RandomForest"
   ]
  },
  {
   "cell_type": "code",
   "execution_count": 47,
   "metadata": {},
   "outputs": [
    {
     "name": "stdout",
     "output_type": "stream",
     "text": [
      "\n",
      "            =========================================\n",
      "               CLASSIFICATION REPORT FOR TRAIN DATA\n",
      "            =========================================\n",
      "            \n",
      "              precision    recall  f1-score   support\n",
      "\n",
      "           0     1.0000    1.0000    1.0000     51171\n",
      "           1     1.0000    0.9806    0.9902       103\n",
      "\n",
      "    accuracy                         1.0000     51274\n",
      "   macro avg     1.0000    0.9903    0.9951     51274\n",
      "weighted avg     1.0000    1.0000    1.0000     51274\n",
      "\n",
      "\n",
      "            =========================================\n",
      "               CLASSIFICATION REPORT FOR TEST DATA\n",
      "            =========================================\n",
      "            \n",
      "              precision    recall  f1-score   support\n",
      "\n",
      "           0     0.9994    0.9997    0.9996     25204\n",
      "           1     0.8409    0.7255    0.7789        51\n",
      "\n",
      "    accuracy                         0.9992     25255\n",
      "   macro avg     0.9202    0.8626    0.8893     25255\n",
      "weighted avg     0.9991    0.9992    0.9991     25255\n",
      "\n"
     ]
    }
   ],
   "source": [
    "clf_rf = RandomForestClassifier(n_estimators=100)\n",
    "clf_rf.fit(X=X_train, y=y_train)\n",
    "\n",
    "y_pred_train = clf_rf.predict(X_train)\n",
    "y_pred_valid = clf_rf.predict(X_valid)\n",
    "\n",
    "classifcation_report_train_test(y_train,y_pred_train,y_valid,y_pred_valid)"
   ]
  },
  {
   "cell_type": "code",
   "execution_count": 48,
   "metadata": {},
   "outputs": [
    {
     "data": {
      "text/html": [
       "<div>\n",
       "<style scoped>\n",
       "    .dataframe tbody tr th:only-of-type {\n",
       "        vertical-align: middle;\n",
       "    }\n",
       "\n",
       "    .dataframe tbody tr th {\n",
       "        vertical-align: top;\n",
       "    }\n",
       "\n",
       "    .dataframe thead th {\n",
       "        text-align: right;\n",
       "    }\n",
       "</style>\n",
       "<table border=\"1\" class=\"dataframe\">\n",
       "  <thead>\n",
       "    <tr style=\"text-align: right;\">\n",
       "      <th></th>\n",
       "      <th>Model</th>\n",
       "      <th>Train_Accuracy</th>\n",
       "      <th>Train_Recall</th>\n",
       "      <th>Train_Precision</th>\n",
       "      <th>Train_F1_Score</th>\n",
       "      <th>Valid_Accuracy</th>\n",
       "      <th>Valid_Recall</th>\n",
       "      <th>Valid_Precision</th>\n",
       "      <th>Valid_F1_Score</th>\n",
       "    </tr>\n",
       "  </thead>\n",
       "  <tbody>\n",
       "    <tr>\n",
       "      <th>0</th>\n",
       "      <td>LogisticRegression</td>\n",
       "      <td>0.998284</td>\n",
       "      <td>0.998284</td>\n",
       "      <td>0.997908</td>\n",
       "      <td>0.997948</td>\n",
       "      <td>0.998258</td>\n",
       "      <td>0.998258</td>\n",
       "      <td>0.997978</td>\n",
       "      <td>0.998071</td>\n",
       "    </tr>\n",
       "    <tr>\n",
       "      <th>1</th>\n",
       "      <td>DecisionTrees</td>\n",
       "      <td>0.999590</td>\n",
       "      <td>0.999590</td>\n",
       "      <td>0.999591</td>\n",
       "      <td>0.999567</td>\n",
       "      <td>0.999525</td>\n",
       "      <td>0.999525</td>\n",
       "      <td>0.999509</td>\n",
       "      <td>0.999510</td>\n",
       "    </tr>\n",
       "    <tr>\n",
       "      <th>2</th>\n",
       "      <td>RandomForest</td>\n",
       "      <td>0.999961</td>\n",
       "      <td>0.999961</td>\n",
       "      <td>0.999961</td>\n",
       "      <td>0.999961</td>\n",
       "      <td>0.999168</td>\n",
       "      <td>0.999168</td>\n",
       "      <td>0.999125</td>\n",
       "      <td>0.999138</td>\n",
       "    </tr>\n",
       "  </tbody>\n",
       "</table>\n",
       "</div>"
      ],
      "text/plain": [
       "                Model  Train_Accuracy  Train_Recall  Train_Precision  \\\n",
       "0  LogisticRegression        0.998284      0.998284         0.997908   \n",
       "1       DecisionTrees        0.999590      0.999590         0.999591   \n",
       "2        RandomForest        0.999961      0.999961         0.999961   \n",
       "\n",
       "   Train_F1_Score  Valid_Accuracy  Valid_Recall  Valid_Precision  \\\n",
       "0        0.997948        0.998258      0.998258         0.997978   \n",
       "1        0.999567        0.999525      0.999525         0.999509   \n",
       "2        0.999961        0.999168      0.999168         0.999125   \n",
       "\n",
       "   Valid_F1_Score  \n",
       "0        0.998071  \n",
       "1        0.999510  \n",
       "2        0.999138  "
      ]
     },
     "execution_count": 48,
     "metadata": {},
     "output_type": "execute_result"
    }
   ],
   "source": [
    "scores = get_metrics(y_train,y_pred_train,y_valid,y_pred_valid,\"RandomForest\",scores)\n",
    "scores"
   ]
  },
  {
   "cell_type": "markdown",
   "metadata": {},
   "source": [
    "### XGBoost"
   ]
  },
  {
   "cell_type": "code",
   "execution_count": 49,
   "metadata": {},
   "outputs": [
    {
     "name": "stdout",
     "output_type": "stream",
     "text": [
      "[19:03:13] WARNING: ..\\src\\learner.cc:1061: Starting in XGBoost 1.3.0, the default evaluation metric used with the objective 'binary:logistic' was changed from 'error' to 'logloss'. Explicitly set eval_metric if you'd like to restore the old behavior.\n"
     ]
    },
    {
     "data": {
      "text/plain": [
       "XGBClassifier(base_score=0.5, booster='gbtree', colsample_bylevel=1,\n",
       "              colsample_bynode=1, colsample_bytree=1, gamma=0.5, gpu_id=-1,\n",
       "              importance_type='gain', interaction_constraints='',\n",
       "              learning_rate=0.1, max_delta_step=0, max_depth=6,\n",
       "              min_child_weight=1, missing=nan, monotone_constraints='()',\n",
       "              n_estimators=400, n_jobs=8, num_parallel_tree=1, random_state=0,\n",
       "              reg_alpha=0, reg_lambda=1, scale_pos_weight=1, subsample=1,\n",
       "              tree_method='exact', validate_parameters=1, verbosity=None)"
      ]
     },
     "execution_count": 49,
     "metadata": {},
     "output_type": "execute_result"
    }
   ],
   "source": [
    "XGB_model = XGBClassifier(n_estimators=400, gamma=0.5,learning_rate=0.1)\n",
    "XGB_model.fit(X_train, y_train)"
   ]
  },
  {
   "cell_type": "code",
   "execution_count": 50,
   "metadata": {},
   "outputs": [],
   "source": [
    "y_pred_train = XGB_model.predict(X_train)\n",
    "y_pred_valid = XGB_model.predict(X_valid)"
   ]
  },
  {
   "cell_type": "code",
   "execution_count": 51,
   "metadata": {},
   "outputs": [
    {
     "name": "stdout",
     "output_type": "stream",
     "text": [
      "\n",
      "            =========================================\n",
      "               CLASSIFICATION REPORT FOR TRAIN DATA\n",
      "            =========================================\n",
      "            \n",
      "              precision    recall  f1-score   support\n",
      "\n",
      "           0     0.9999    1.0000    0.9999     51171\n",
      "           1     0.9898    0.9417    0.9652       103\n",
      "\n",
      "    accuracy                         0.9999     51274\n",
      "   macro avg     0.9948    0.9709    0.9826     51274\n",
      "weighted avg     0.9999    0.9999    0.9999     51274\n",
      "\n",
      "\n",
      "            =========================================\n",
      "               CLASSIFICATION REPORT FOR TEST DATA\n",
      "            =========================================\n",
      "            \n",
      "              precision    recall  f1-score   support\n",
      "\n",
      "           0     0.9999    0.9996    0.9997     25204\n",
      "           1     0.8167    0.9608    0.8829        51\n",
      "\n",
      "    accuracy                         0.9995     25255\n",
      "   macro avg     0.9083    0.9802    0.9413     25255\n",
      "weighted avg     0.9996    0.9995    0.9995     25255\n",
      "\n"
     ]
    }
   ],
   "source": [
    "classifcation_report_train_test(y_train,y_pred_train,y_valid,y_pred_valid)"
   ]
  },
  {
   "cell_type": "code",
   "execution_count": 52,
   "metadata": {},
   "outputs": [
    {
     "data": {
      "text/html": [
       "<div>\n",
       "<style scoped>\n",
       "    .dataframe tbody tr th:only-of-type {\n",
       "        vertical-align: middle;\n",
       "    }\n",
       "\n",
       "    .dataframe tbody tr th {\n",
       "        vertical-align: top;\n",
       "    }\n",
       "\n",
       "    .dataframe thead th {\n",
       "        text-align: right;\n",
       "    }\n",
       "</style>\n",
       "<table border=\"1\" class=\"dataframe\">\n",
       "  <thead>\n",
       "    <tr style=\"text-align: right;\">\n",
       "      <th></th>\n",
       "      <th>Model</th>\n",
       "      <th>Train_Accuracy</th>\n",
       "      <th>Train_Recall</th>\n",
       "      <th>Train_Precision</th>\n",
       "      <th>Train_F1_Score</th>\n",
       "      <th>Valid_Accuracy</th>\n",
       "      <th>Valid_Recall</th>\n",
       "      <th>Valid_Precision</th>\n",
       "      <th>Valid_F1_Score</th>\n",
       "    </tr>\n",
       "  </thead>\n",
       "  <tbody>\n",
       "    <tr>\n",
       "      <th>0</th>\n",
       "      <td>LogisticRegression</td>\n",
       "      <td>0.998284</td>\n",
       "      <td>0.998284</td>\n",
       "      <td>0.997908</td>\n",
       "      <td>0.997948</td>\n",
       "      <td>0.998258</td>\n",
       "      <td>0.998258</td>\n",
       "      <td>0.997978</td>\n",
       "      <td>0.998071</td>\n",
       "    </tr>\n",
       "    <tr>\n",
       "      <th>1</th>\n",
       "      <td>DecisionTrees</td>\n",
       "      <td>0.999590</td>\n",
       "      <td>0.999590</td>\n",
       "      <td>0.999591</td>\n",
       "      <td>0.999567</td>\n",
       "      <td>0.999525</td>\n",
       "      <td>0.999525</td>\n",
       "      <td>0.999509</td>\n",
       "      <td>0.999510</td>\n",
       "    </tr>\n",
       "    <tr>\n",
       "      <th>2</th>\n",
       "      <td>RandomForest</td>\n",
       "      <td>0.999961</td>\n",
       "      <td>0.999961</td>\n",
       "      <td>0.999961</td>\n",
       "      <td>0.999961</td>\n",
       "      <td>0.999168</td>\n",
       "      <td>0.999168</td>\n",
       "      <td>0.999125</td>\n",
       "      <td>0.999138</td>\n",
       "    </tr>\n",
       "    <tr>\n",
       "      <th>3</th>\n",
       "      <td>XGBoost</td>\n",
       "      <td>0.999863</td>\n",
       "      <td>0.999863</td>\n",
       "      <td>0.999862</td>\n",
       "      <td>0.999862</td>\n",
       "      <td>0.999485</td>\n",
       "      <td>0.999485</td>\n",
       "      <td>0.999551</td>\n",
       "      <td>0.999506</td>\n",
       "    </tr>\n",
       "  </tbody>\n",
       "</table>\n",
       "</div>"
      ],
      "text/plain": [
       "                Model  Train_Accuracy  Train_Recall  Train_Precision  \\\n",
       "0  LogisticRegression        0.998284      0.998284         0.997908   \n",
       "1       DecisionTrees        0.999590      0.999590         0.999591   \n",
       "2        RandomForest        0.999961      0.999961         0.999961   \n",
       "3             XGBoost        0.999863      0.999863         0.999862   \n",
       "\n",
       "   Train_F1_Score  Valid_Accuracy  Valid_Recall  Valid_Precision  \\\n",
       "0        0.997948        0.998258      0.998258         0.997978   \n",
       "1        0.999567        0.999525      0.999525         0.999509   \n",
       "2        0.999961        0.999168      0.999168         0.999125   \n",
       "3        0.999862        0.999485      0.999485         0.999551   \n",
       "\n",
       "   Valid_F1_Score  \n",
       "0        0.998071  \n",
       "1        0.999510  \n",
       "2        0.999138  \n",
       "3        0.999506  "
      ]
     },
     "execution_count": 52,
     "metadata": {},
     "output_type": "execute_result"
    }
   ],
   "source": [
    "scores = get_metrics(y_train,y_pred_train,y_valid,y_pred_valid,\"XGBoost\",scores)\n",
    "scores"
   ]
  },
  {
   "cell_type": "markdown",
   "metadata": {},
   "source": [
    "### Important Features"
   ]
  },
  {
   "cell_type": "code",
   "execution_count": 53,
   "metadata": {},
   "outputs": [
    {
     "name": "stdout",
     "output_type": "stream",
     "text": [
      "[ 52  53  80  51  50  49  48  79  47  82  83  86  87  89  38  46  73  56\n",
      "  58  72  71  75  69  76  77  57  66  64  63  62  61  60  78  65  36  91\n",
      "  34  16  15  94  13  12  96  10   9   8   6  97  98   3   2 102  17  35\n",
      "  74  93  33  32  31  30  29  92  18  27  26  25  24  23  22  21  20  81\n",
      "  88   7  55 104  90   5 100  44  19  84  39  59  37 101  95 103  42  41\n",
      "  11  40  67   1  43  45  14  99  28  85  54   4  70  68   0]\n"
     ]
    }
   ],
   "source": [
    "importances = XGB_model.feature_importances_\n",
    "indices = np.argsort(importances)\n",
    "print(indices)"
   ]
  },
  {
   "cell_type": "code",
   "execution_count": 54,
   "metadata": {},
   "outputs": [
    {
     "data": {
      "image/png": "[encoded data removed]",
      "text/plain": [
       "<Figure size 720x1800 with 1 Axes>"
      ]
     },
     "metadata": {
      "needs_background": "light"
     },
     "output_type": "display_data"
    }
   ],
   "source": [
    "#important attributes\n",
    "%matplotlib inline\n",
    "features = X_train.columns\n",
    "plt.figure(figsize=(10,25))\n",
    "plt.title('Feature Importances')\n",
    "plt.barh(range(len(indices)),importances[indices], color='b',align='center')\n",
    "plt.yticks(range(len(indices)), [features[i] for i in indices], fontsize = 10)\n",
    "plt.xlabel('Relative Importance')\n",
    "\n",
    "plt.show()"
   ]
  },
  {
   "cell_type": "markdown",
   "metadata": {},
   "source": [
    "* __money_transacted is an importanat feature for prediction__\n",
    "* __there are only few days,months and payment methods where fraud has happened more so those features have high relative importance__"
   ]
  },
  {
   "cell_type": "markdown",
   "metadata": {},
   "source": [
    "### Adaboost"
   ]
  },
  {
   "cell_type": "code",
   "execution_count": 55,
   "metadata": {},
   "outputs": [],
   "source": [
    "# Create adaboost-decision tree classifer object\n",
    "clf_adaboost =  AdaBoostClassifier(n_estimators = 600,\n",
    "    learning_rate = 0.4)\n",
    "\n",
    "clf_adaboost.fit(X_train, y_train)\n",
    "\n",
    "y_pred_train = clf_adaboost.predict(X_train)\n",
    "y_pred_valid = clf_adaboost.predict(X_valid)"
   ]
  },
  {
   "cell_type": "code",
   "execution_count": 56,
   "metadata": {},
   "outputs": [
    {
     "name": "stdout",
     "output_type": "stream",
     "text": [
      "\n",
      "            =========================================\n",
      "               CLASSIFICATION REPORT FOR TRAIN DATA\n",
      "            =========================================\n",
      "            \n",
      "              precision    recall  f1-score   support\n",
      "\n",
      "           0     0.9999    1.0000    1.0000     51171\n",
      "           1     0.9804    0.9709    0.9756       103\n",
      "\n",
      "    accuracy                         0.9999     51274\n",
      "   macro avg     0.9902    0.9854    0.9878     51274\n",
      "weighted avg     0.9999    0.9999    0.9999     51274\n",
      "\n",
      "\n",
      "            =========================================\n",
      "               CLASSIFICATION REPORT FOR TEST DATA\n",
      "            =========================================\n",
      "            \n",
      "              precision    recall  f1-score   support\n",
      "\n",
      "           0     0.9998    0.9994    0.9996     25204\n",
      "           1     0.7667    0.9020    0.8288        51\n",
      "\n",
      "    accuracy                         0.9992     25255\n",
      "   macro avg     0.8832    0.9507    0.9142     25255\n",
      "weighted avg     0.9993    0.9992    0.9993     25255\n",
      "\n"
     ]
    }
   ],
   "source": [
    "classifcation_report_train_test(y_train,y_pred_train,y_valid,y_pred_valid)"
   ]
  },
  {
   "cell_type": "code",
   "execution_count": 57,
   "metadata": {},
   "outputs": [
    {
     "data": {
      "text/html": [
       "<div>\n",
       "<style scoped>\n",
       "    .dataframe tbody tr th:only-of-type {\n",
       "        vertical-align: middle;\n",
       "    }\n",
       "\n",
       "    .dataframe tbody tr th {\n",
       "        vertical-align: top;\n",
       "    }\n",
       "\n",
       "    .dataframe thead th {\n",
       "        text-align: right;\n",
       "    }\n",
       "</style>\n",
       "<table border=\"1\" class=\"dataframe\">\n",
       "  <thead>\n",
       "    <tr style=\"text-align: right;\">\n",
       "      <th></th>\n",
       "      <th>Model</th>\n",
       "      <th>Train_Accuracy</th>\n",
       "      <th>Train_Recall</th>\n",
       "      <th>Train_Precision</th>\n",
       "      <th>Train_F1_Score</th>\n",
       "      <th>Valid_Accuracy</th>\n",
       "      <th>Valid_Recall</th>\n",
       "      <th>Valid_Precision</th>\n",
       "      <th>Valid_F1_Score</th>\n",
       "    </tr>\n",
       "  </thead>\n",
       "  <tbody>\n",
       "    <tr>\n",
       "      <th>0</th>\n",
       "      <td>LogisticRegression</td>\n",
       "      <td>0.998284</td>\n",
       "      <td>0.998284</td>\n",
       "      <td>0.997908</td>\n",
       "      <td>0.997948</td>\n",
       "      <td>0.998258</td>\n",
       "      <td>0.998258</td>\n",
       "      <td>0.997978</td>\n",
       "      <td>0.998071</td>\n",
       "    </tr>\n",
       "    <tr>\n",
       "      <th>1</th>\n",
       "      <td>DecisionTrees</td>\n",
       "      <td>0.999590</td>\n",
       "      <td>0.999590</td>\n",
       "      <td>0.999591</td>\n",
       "      <td>0.999567</td>\n",
       "      <td>0.999525</td>\n",
       "      <td>0.999525</td>\n",
       "      <td>0.999509</td>\n",
       "      <td>0.999510</td>\n",
       "    </tr>\n",
       "    <tr>\n",
       "      <th>2</th>\n",
       "      <td>RandomForest</td>\n",
       "      <td>0.999961</td>\n",
       "      <td>0.999961</td>\n",
       "      <td>0.999961</td>\n",
       "      <td>0.999961</td>\n",
       "      <td>0.999168</td>\n",
       "      <td>0.999168</td>\n",
       "      <td>0.999125</td>\n",
       "      <td>0.999138</td>\n",
       "    </tr>\n",
       "    <tr>\n",
       "      <th>3</th>\n",
       "      <td>XGBoost</td>\n",
       "      <td>0.999863</td>\n",
       "      <td>0.999863</td>\n",
       "      <td>0.999862</td>\n",
       "      <td>0.999862</td>\n",
       "      <td>0.999485</td>\n",
       "      <td>0.999485</td>\n",
       "      <td>0.999551</td>\n",
       "      <td>0.999506</td>\n",
       "    </tr>\n",
       "    <tr>\n",
       "      <th>4</th>\n",
       "      <td>AdaBoost</td>\n",
       "      <td>0.999902</td>\n",
       "      <td>0.999902</td>\n",
       "      <td>0.999902</td>\n",
       "      <td>0.999902</td>\n",
       "      <td>0.999248</td>\n",
       "      <td>0.999248</td>\n",
       "      <td>0.999331</td>\n",
       "      <td>0.999278</td>\n",
       "    </tr>\n",
       "  </tbody>\n",
       "</table>\n",
       "</div>"
      ],
      "text/plain": [
       "                Model  Train_Accuracy  Train_Recall  Train_Precision  \\\n",
       "0  LogisticRegression        0.998284      0.998284         0.997908   \n",
       "1       DecisionTrees        0.999590      0.999590         0.999591   \n",
       "2        RandomForest        0.999961      0.999961         0.999961   \n",
       "3             XGBoost        0.999863      0.999863         0.999862   \n",
       "4            AdaBoost        0.999902      0.999902         0.999902   \n",
       "\n",
       "   Train_F1_Score  Valid_Accuracy  Valid_Recall  Valid_Precision  \\\n",
       "0        0.997948        0.998258      0.998258         0.997978   \n",
       "1        0.999567        0.999525      0.999525         0.999509   \n",
       "2        0.999961        0.999168      0.999168         0.999125   \n",
       "3        0.999862        0.999485      0.999485         0.999551   \n",
       "4        0.999902        0.999248      0.999248         0.999331   \n",
       "\n",
       "   Valid_F1_Score  \n",
       "0        0.998071  \n",
       "1        0.999510  \n",
       "2        0.999138  \n",
       "3        0.999506  \n",
       "4        0.999278  "
      ]
     },
     "execution_count": 57,
     "metadata": {},
     "output_type": "execute_result"
    }
   ],
   "source": [
    "scores = get_metrics(y_train,y_pred_train,y_valid,y_pred_valid,\"AdaBoost\",scores)\n",
    "scores"
   ]
  },
  {
   "cell_type": "markdown",
   "metadata": {},
   "source": [
    "### Pickling final best model for production "
   ]
  },
  {
   "cell_type": "code",
   "execution_count": 58,
   "metadata": {},
   "outputs": [],
   "source": [
    "# save the model to disk\n",
    "filename = 'finalized_model.sav'\n",
    "pickle.dump(XGB_model, open(filename, 'wb'))"
   ]
  },
  {
   "cell_type": "markdown",
   "metadata": {},
   "source": [
    "### TEST_DATA"
   ]
  },
  {
   "cell_type": "code",
   "execution_count": 59,
   "metadata": {},
   "outputs": [],
   "source": [
    "test_data=pd.read_csv('test_data.csv')"
   ]
  },
  {
   "cell_type": "code",
   "execution_count": 60,
   "metadata": {},
   "outputs": [
    {
     "data": {
      "text/html": [
       "<div>\n",
       "<style scoped>\n",
       "    .dataframe tbody tr th:only-of-type {\n",
       "        vertical-align: middle;\n",
       "    }\n",
       "\n",
       "    .dataframe tbody tr th {\n",
       "        vertical-align: top;\n",
       "    }\n",
       "\n",
       "    .dataframe thead th {\n",
       "        text-align: right;\n",
       "    }\n",
       "</style>\n",
       "<table border=\"1\" class=\"dataframe\">\n",
       "  <thead>\n",
       "    <tr style=\"text-align: right;\">\n",
       "      <th></th>\n",
       "      <th>transaction_number</th>\n",
       "      <th>user_id</th>\n",
       "      <th>payment_method</th>\n",
       "      <th>partner_id</th>\n",
       "      <th>partner_category</th>\n",
       "      <th>country</th>\n",
       "      <th>device_type</th>\n",
       "      <th>money_transacted</th>\n",
       "      <th>transaction_initiation</th>\n",
       "      <th>partner_pricing_category</th>\n",
       "    </tr>\n",
       "  </thead>\n",
       "  <tbody>\n",
       "    <tr>\n",
       "      <th>0</th>\n",
       "      <td>857050141038272</td>\n",
       "      <td>3802500</td>\n",
       "      <td>visa_master_debit_cards</td>\n",
       "      <td>118335</td>\n",
       "      <td>cat_1</td>\n",
       "      <td>IND_INR</td>\n",
       "      <td>other_pcs</td>\n",
       "      <td>200.0</td>\n",
       "      <td>2016-12-28 14:44:37+00:00</td>\n",
       "      <td>2</td>\n",
       "    </tr>\n",
       "    <tr>\n",
       "      <th>1</th>\n",
       "      <td>4400462872603</td>\n",
       "      <td>200704</td>\n",
       "      <td>e_wallet_payments</td>\n",
       "      <td>23667</td>\n",
       "      <td>cat_2</td>\n",
       "      <td>IND_INR</td>\n",
       "      <td>other_pcs</td>\n",
       "      <td>20.0</td>\n",
       "      <td>2016-12-14 17:49:48+00:00</td>\n",
       "      <td>2</td>\n",
       "    </tr>\n",
       "    <tr>\n",
       "      <th>2</th>\n",
       "      <td>1207915598569499</td>\n",
       "      <td>25150225</td>\n",
       "      <td>sbi_atm_cum_debit_card</td>\n",
       "      <td>47334</td>\n",
       "      <td>cat_1</td>\n",
       "      <td>IND_INR</td>\n",
       "      <td>android_devices</td>\n",
       "      <td>-100.0</td>\n",
       "      <td>2017-01-21 10:18:11+00:00</td>\n",
       "      <td>2</td>\n",
       "    </tr>\n",
       "    <tr>\n",
       "      <th>3</th>\n",
       "      <td>2009725616777536</td>\n",
       "      <td>21827584</td>\n",
       "      <td>visa_master_credit_cards</td>\n",
       "      <td>78890</td>\n",
       "      <td>cat_2</td>\n",
       "      <td>IND_INR</td>\n",
       "      <td>other_pcs</td>\n",
       "      <td>200.0</td>\n",
       "      <td>2017-01-16 13:25:10+00:00</td>\n",
       "      <td>1</td>\n",
       "    </tr>\n",
       "    <tr>\n",
       "      <th>4</th>\n",
       "      <td>2319205210274863</td>\n",
       "      <td>576081</td>\n",
       "      <td>e_wallet_payments</td>\n",
       "      <td>23667</td>\n",
       "      <td>cat_2</td>\n",
       "      <td>IND_INR</td>\n",
       "      <td>other_pcs</td>\n",
       "      <td>100.0</td>\n",
       "      <td>2017-02-09 12:47:28+00:00</td>\n",
       "      <td>2</td>\n",
       "    </tr>\n",
       "  </tbody>\n",
       "</table>\n",
       "</div>"
      ],
      "text/plain": [
       "   transaction_number   user_id            payment_method  partner_id  \\\n",
       "0     857050141038272   3802500   visa_master_debit_cards      118335   \n",
       "1       4400462872603    200704         e_wallet_payments       23667   \n",
       "2    1207915598569499  25150225    sbi_atm_cum_debit_card       47334   \n",
       "3    2009725616777536  21827584  visa_master_credit_cards       78890   \n",
       "4    2319205210274863    576081         e_wallet_payments       23667   \n",
       "\n",
       "  partner_category  country      device_type  money_transacted  \\\n",
       "0            cat_1  IND_INR        other_pcs             200.0   \n",
       "1            cat_2  IND_INR        other_pcs              20.0   \n",
       "2            cat_1  IND_INR  android_devices            -100.0   \n",
       "3            cat_2  IND_INR        other_pcs             200.0   \n",
       "4            cat_2  IND_INR        other_pcs             100.0   \n",
       "\n",
       "      transaction_initiation  partner_pricing_category  \n",
       "0  2016-12-28 14:44:37+00:00                         2  \n",
       "1  2016-12-14 17:49:48+00:00                         2  \n",
       "2  2017-01-21 10:18:11+00:00                         2  \n",
       "3  2017-01-16 13:25:10+00:00                         1  \n",
       "4  2017-02-09 12:47:28+00:00                         2  "
      ]
     },
     "execution_count": 60,
     "metadata": {},
     "output_type": "execute_result"
    }
   ],
   "source": [
    "test_data.head()"
   ]
  },
  {
   "cell_type": "code",
   "execution_count": 61,
   "metadata": {},
   "outputs": [],
   "source": [
    "transaction=test_data['transaction_number']"
   ]
  },
  {
   "cell_type": "code",
   "execution_count": 62,
   "metadata": {},
   "outputs": [
    {
     "data": {
      "text/plain": [
       "(19133, 10)"
      ]
     },
     "execution_count": 62,
     "metadata": {},
     "output_type": "execute_result"
    }
   ],
   "source": [
    "test_data.shape"
   ]
  },
  {
   "cell_type": "code",
   "execution_count": 63,
   "metadata": {},
   "outputs": [
    {
     "data": {
      "text/plain": [
       "transaction_number          19133\n",
       "user_id                      2617\n",
       "payment_method                  6\n",
       "partner_id                     20\n",
       "partner_category                8\n",
       "country                         1\n",
       "device_type                     4\n",
       "money_transacted              695\n",
       "transaction_initiation      19090\n",
       "partner_pricing_category        4\n",
       "dtype: int64"
      ]
     },
     "execution_count": 63,
     "metadata": {},
     "output_type": "execute_result"
    }
   ],
   "source": [
    "test_data.nunique()"
   ]
  },
  {
   "cell_type": "code",
   "execution_count": 64,
   "metadata": {},
   "outputs": [
    {
     "data": {
      "text/plain": [
       "transaction_number            int64\n",
       "user_id                       int64\n",
       "payment_method               object\n",
       "partner_id                    int64\n",
       "partner_category             object\n",
       "country                      object\n",
       "device_type                  object\n",
       "money_transacted            float64\n",
       "transaction_initiation       object\n",
       "partner_pricing_category      int64\n",
       "dtype: object"
      ]
     },
     "execution_count": 64,
     "metadata": {},
     "output_type": "execute_result"
    }
   ],
   "source": [
    "test_data.dtypes"
   ]
  },
  {
   "cell_type": "code",
   "execution_count": 65,
   "metadata": {},
   "outputs": [],
   "source": [
    "#extract day,month,year,time from timestamp column.So,convert it to datetime\n",
    "test_data.transaction_initiation=pd.to_datetime(test_data.transaction_initiation)"
   ]
  },
  {
   "cell_type": "code",
   "execution_count": 66,
   "metadata": {},
   "outputs": [],
   "source": [
    "test_data['year'] = test_data['transaction_initiation'].dt.year\n",
    "test_data['Month'] = test_data['transaction_initiation'].dt.month\n",
    "test_data['Day'] = test_data['transaction_initiation'].dt.day\n",
    "test_data['hour'] = test_data['transaction_initiation'].dt.hour\n",
    "test_data['dayofweek'] = test_data['transaction_initiation'].dt.dayofweek"
   ]
  },
  {
   "cell_type": "code",
   "execution_count": 67,
   "metadata": {},
   "outputs": [],
   "source": [
    "test_data.drop('transaction_initiation',axis=1,inplace=True)\n",
    "test_data.drop('country',axis=1,inplace=True)    #only one unique value\n",
    "test_data.drop('transaction_number',axis=1,inplace=True) \n",
    "test_data.drop('user_id',axis=1,inplace=True) #id is of no use"
   ]
  },
  {
   "cell_type": "code",
   "execution_count": 68,
   "metadata": {},
   "outputs": [
    {
     "data": {
      "text/html": [
       "<div>\n",
       "<style scoped>\n",
       "    .dataframe tbody tr th:only-of-type {\n",
       "        vertical-align: middle;\n",
       "    }\n",
       "\n",
       "    .dataframe tbody tr th {\n",
       "        vertical-align: top;\n",
       "    }\n",
       "\n",
       "    .dataframe thead th {\n",
       "        text-align: right;\n",
       "    }\n",
       "</style>\n",
       "<table border=\"1\" class=\"dataframe\">\n",
       "  <thead>\n",
       "    <tr style=\"text-align: right;\">\n",
       "      <th></th>\n",
       "      <th>payment_method</th>\n",
       "      <th>partner_id</th>\n",
       "      <th>partner_category</th>\n",
       "      <th>device_type</th>\n",
       "      <th>money_transacted</th>\n",
       "      <th>partner_pricing_category</th>\n",
       "      <th>year</th>\n",
       "      <th>Month</th>\n",
       "      <th>Day</th>\n",
       "      <th>hour</th>\n",
       "      <th>dayofweek</th>\n",
       "    </tr>\n",
       "  </thead>\n",
       "  <tbody>\n",
       "    <tr>\n",
       "      <th>0</th>\n",
       "      <td>visa_master_debit_cards</td>\n",
       "      <td>118335</td>\n",
       "      <td>cat_1</td>\n",
       "      <td>other_pcs</td>\n",
       "      <td>200.0</td>\n",
       "      <td>2</td>\n",
       "      <td>2016</td>\n",
       "      <td>12</td>\n",
       "      <td>28</td>\n",
       "      <td>14</td>\n",
       "      <td>2</td>\n",
       "    </tr>\n",
       "    <tr>\n",
       "      <th>1</th>\n",
       "      <td>e_wallet_payments</td>\n",
       "      <td>23667</td>\n",
       "      <td>cat_2</td>\n",
       "      <td>other_pcs</td>\n",
       "      <td>20.0</td>\n",
       "      <td>2</td>\n",
       "      <td>2016</td>\n",
       "      <td>12</td>\n",
       "      <td>14</td>\n",
       "      <td>17</td>\n",
       "      <td>2</td>\n",
       "    </tr>\n",
       "    <tr>\n",
       "      <th>2</th>\n",
       "      <td>sbi_atm_cum_debit_card</td>\n",
       "      <td>47334</td>\n",
       "      <td>cat_1</td>\n",
       "      <td>android_devices</td>\n",
       "      <td>-100.0</td>\n",
       "      <td>2</td>\n",
       "      <td>2017</td>\n",
       "      <td>1</td>\n",
       "      <td>21</td>\n",
       "      <td>10</td>\n",
       "      <td>5</td>\n",
       "    </tr>\n",
       "    <tr>\n",
       "      <th>3</th>\n",
       "      <td>visa_master_credit_cards</td>\n",
       "      <td>78890</td>\n",
       "      <td>cat_2</td>\n",
       "      <td>other_pcs</td>\n",
       "      <td>200.0</td>\n",
       "      <td>1</td>\n",
       "      <td>2017</td>\n",
       "      <td>1</td>\n",
       "      <td>16</td>\n",
       "      <td>13</td>\n",
       "      <td>0</td>\n",
       "    </tr>\n",
       "    <tr>\n",
       "      <th>4</th>\n",
       "      <td>e_wallet_payments</td>\n",
       "      <td>23667</td>\n",
       "      <td>cat_2</td>\n",
       "      <td>other_pcs</td>\n",
       "      <td>100.0</td>\n",
       "      <td>2</td>\n",
       "      <td>2017</td>\n",
       "      <td>2</td>\n",
       "      <td>9</td>\n",
       "      <td>12</td>\n",
       "      <td>3</td>\n",
       "    </tr>\n",
       "  </tbody>\n",
       "</table>\n",
       "</div>"
      ],
      "text/plain": [
       "             payment_method  partner_id partner_category      device_type  \\\n",
       "0   visa_master_debit_cards      118335            cat_1        other_pcs   \n",
       "1         e_wallet_payments       23667            cat_2        other_pcs   \n",
       "2    sbi_atm_cum_debit_card       47334            cat_1  android_devices   \n",
       "3  visa_master_credit_cards       78890            cat_2        other_pcs   \n",
       "4         e_wallet_payments       23667            cat_2        other_pcs   \n",
       "\n",
       "   money_transacted  partner_pricing_category  year  Month  Day  hour  \\\n",
       "0             200.0                         2  2016     12   28    14   \n",
       "1              20.0                         2  2016     12   14    17   \n",
       "2            -100.0                         2  2017      1   21    10   \n",
       "3             200.0                         1  2017      1   16    13   \n",
       "4             100.0                         2  2017      2    9    12   \n",
       "\n",
       "   dayofweek  \n",
       "0          2  \n",
       "1          2  \n",
       "2          5  \n",
       "3          0  \n",
       "4          3  "
      ]
     },
     "execution_count": 68,
     "metadata": {},
     "output_type": "execute_result"
    }
   ],
   "source": [
    "test_data.head()"
   ]
  },
  {
   "cell_type": "code",
   "execution_count": 69,
   "metadata": {},
   "outputs": [
    {
     "name": "stdout",
     "output_type": "stream",
     "text": [
      "payment_method               object\n",
      "partner_id                    int64\n",
      "partner_category             object\n",
      "device_type                  object\n",
      "money_transacted            float64\n",
      "partner_pricing_category      int64\n",
      "year                          int64\n",
      "Month                         int64\n",
      "Day                           int64\n",
      "hour                          int64\n",
      "dayofweek                     int64\n",
      "dtype: object\n",
      "payment_method                6\n",
      "partner_id                   20\n",
      "partner_category              8\n",
      "device_type                   4\n",
      "money_transacted            695\n",
      "partner_pricing_category      4\n",
      "year                          2\n",
      "Month                         4\n",
      "Day                          31\n",
      "hour                         24\n",
      "dayofweek                     7\n",
      "dtype: int64\n"
     ]
    }
   ],
   "source": [
    "print(test_data.dtypes)\n",
    "print(test_data.nunique())"
   ]
  },
  {
   "cell_type": "code",
   "execution_count": 70,
   "metadata": {},
   "outputs": [],
   "source": [
    "con_list=[cname for cname in test_data.columns if test_data[cname].nunique()<=31]\n",
    "test_data[con_list]=test_data[con_list].astype('category')"
   ]
  },
  {
   "cell_type": "code",
   "execution_count": 71,
   "metadata": {},
   "outputs": [
    {
     "data": {
      "text/plain": [
       "payment_method              category\n",
       "partner_id                  category\n",
       "partner_category            category\n",
       "device_type                 category\n",
       "money_transacted             float64\n",
       "partner_pricing_category    category\n",
       "year                        category\n",
       "Month                       category\n",
       "Day                         category\n",
       "hour                        category\n",
       "dayofweek                   category\n",
       "dtype: object"
      ]
     },
     "execution_count": 71,
     "metadata": {},
     "output_type": "execute_result"
    }
   ],
   "source": [
    "test_data.dtypes"
   ]
  },
  {
   "cell_type": "code",
   "execution_count": 72,
   "metadata": {},
   "outputs": [
    {
     "name": "stdout",
     "output_type": "stream",
     "text": [
      "1\n",
      "10\n"
     ]
    }
   ],
   "source": [
    "num_cols = test_data.select_dtypes(exclude='category').columns\n",
    "print(len(num_cols))\n",
    "\n",
    "cat_cols=test_data.select_dtypes(include='category').columns\n",
    "print(len(cat_cols))"
   ]
  },
  {
   "cell_type": "code",
   "execution_count": 73,
   "metadata": {},
   "outputs": [],
   "source": [
    "test_data_num = pd.DataFrame(scaler.transform(test_data[num_cols]), columns=num_cols)"
   ]
  },
  {
   "cell_type": "code",
   "execution_count": 74,
   "metadata": {},
   "outputs": [
    {
     "name": "stdout",
     "output_type": "stream",
     "text": [
      "(19133, 104)\n"
     ]
    }
   ],
   "source": [
    "test_data_cat=ohe.transform(test_data[cat_cols])\n",
    "print(test_data_cat.shape)"
   ]
  },
  {
   "cell_type": "code",
   "execution_count": 75,
   "metadata": {},
   "outputs": [
    {
     "name": "stdout",
     "output_type": "stream",
     "text": [
      "(19133, 104)\n"
     ]
    }
   ],
   "source": [
    "test_data_cat = pd.DataFrame(test_data_cat.todense(), columns=columns_ohe)\n",
    "print(test_data_cat.shape)"
   ]
  },
  {
   "cell_type": "code",
   "execution_count": 76,
   "metadata": {},
   "outputs": [
    {
     "name": "stdout",
     "output_type": "stream",
     "text": [
      "(19133, 105)\n"
     ]
    }
   ],
   "source": [
    "test_data=pd.concat([test_data_num,test_data_cat],axis=1)\n",
    "print(test_data.shape)"
   ]
  },
  {
   "cell_type": "markdown",
   "metadata": {},
   "source": [
    "### XGBoost"
   ]
  },
  {
   "cell_type": "code",
   "execution_count": 77,
   "metadata": {},
   "outputs": [],
   "source": [
    "loaded_model = pickle.load(open(filename, 'rb'))"
   ]
  },
  {
   "cell_type": "code",
   "execution_count": 78,
   "metadata": {},
   "outputs": [],
   "source": [
    "test_data_preds=loaded_model.predict(test_data)"
   ]
  },
  {
   "cell_type": "code",
   "execution_count": 79,
   "metadata": {},
   "outputs": [],
   "source": [
    "final_submission=pd.concat([transaction,pd.DataFrame(test_data_preds,columns=['is_fraud'])],axis=1)"
   ]
  },
  {
   "cell_type": "code",
   "execution_count": 80,
   "metadata": {},
   "outputs": [
    {
     "data": {
      "text/html": [
       "<div>\n",
       "<style scoped>\n",
       "    .dataframe tbody tr th:only-of-type {\n",
       "        vertical-align: middle;\n",
       "    }\n",
       "\n",
       "    .dataframe tbody tr th {\n",
       "        vertical-align: top;\n",
       "    }\n",
       "\n",
       "    .dataframe thead th {\n",
       "        text-align: right;\n",
       "    }\n",
       "</style>\n",
       "<table border=\"1\" class=\"dataframe\">\n",
       "  <thead>\n",
       "    <tr style=\"text-align: right;\">\n",
       "      <th></th>\n",
       "      <th>transaction_number</th>\n",
       "      <th>is_fraud</th>\n",
       "    </tr>\n",
       "  </thead>\n",
       "  <tbody>\n",
       "    <tr>\n",
       "      <th>0</th>\n",
       "      <td>857050141038272</td>\n",
       "      <td>0</td>\n",
       "    </tr>\n",
       "    <tr>\n",
       "      <th>1</th>\n",
       "      <td>4400462872603</td>\n",
       "      <td>0</td>\n",
       "    </tr>\n",
       "    <tr>\n",
       "      <th>2</th>\n",
       "      <td>1207915598569499</td>\n",
       "      <td>0</td>\n",
       "    </tr>\n",
       "    <tr>\n",
       "      <th>3</th>\n",
       "      <td>2009725616777536</td>\n",
       "      <td>0</td>\n",
       "    </tr>\n",
       "    <tr>\n",
       "      <th>4</th>\n",
       "      <td>2319205210274863</td>\n",
       "      <td>0</td>\n",
       "    </tr>\n",
       "  </tbody>\n",
       "</table>\n",
       "</div>"
      ],
      "text/plain": [
       "   transaction_number  is_fraud\n",
       "0     857050141038272         0\n",
       "1       4400462872603         0\n",
       "2    1207915598569499         0\n",
       "3    2009725616777536         0\n",
       "4    2319205210274863         0"
      ]
     },
     "execution_count": 80,
     "metadata": {},
     "output_type": "execute_result"
    }
   ],
   "source": [
    "final_submission.head()"
   ]
  },
  {
   "cell_type": "code",
   "execution_count": 81,
   "metadata": {},
   "outputs": [
    {
     "data": {
      "text/plain": [
       "(19133, 2)"
      ]
     },
     "execution_count": 81,
     "metadata": {},
     "output_type": "execute_result"
    }
   ],
   "source": [
    "final_submission.shape"
   ]
  },
  {
   "cell_type": "code",
   "execution_count": 82,
   "metadata": {},
   "outputs": [],
   "source": [
    "final_submission.to_csv('final_submission.csv',index=False)"
   ]
  },
  {
   "cell_type": "code",
   "execution_count": null,
   "metadata": {},
   "outputs": [],
   "source": []
  }
 ],
 "metadata": {
  "kernelspec": {
   "display_name": "Python 3",
   "language": "python",
   "name": "python3"
  },
  "language_info": {
   "codemirror_mode": {
    "name": "ipython",
    "version": 3
   },
   "file_extension": ".py",
   "mimetype": "text/x-python",
   "name": "python",
   "nbconvert_exporter": "python",
   "pygments_lexer": "ipython3",
   "version": "3.8.5"
  }
 },
 "nbformat": 4,
 "nbformat_minor": 4
}
